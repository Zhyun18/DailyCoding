{
 "cells": [
  {
   "cell_type": "code",
   "execution_count": null,
   "metadata": {},
   "outputs": [
    {
     "name": "stdout",
     "output_type": "stream",
     "text": [
      "=== print msg ===\n",
      "Hello\n",
      "=== write function ===\n",
      "World\n",
      "=== print msg ===\n",
      "Hello\n"
     ]
    }
   ],
   "source": [
    "# Scope \n",
    "msg = \"Hello\"\n",
    "\n",
    "def write():\n",
    "    msg = \"World\"\n",
    "    print(msg) \n",
    "\n",
    "def main():\n",
    "    print(\"=== print msg ===\")\n",
    "    print(msg) \n",
    "\n",
    "    print(\"=== write function ===\")\n",
    "    write()\n",
    "\n",
    "    print(\"=== print msg ===\")\n",
    "    print(msg) \n",
    "\n",
    "if __name__ == \"__main__\":\n",
    "    main()"
   ]
  },
  {
   "cell_type": "code",
   "execution_count": 2,
   "metadata": {},
   "outputs": [
    {
     "name": "stdout",
     "output_type": "stream",
     "text": [
      "== print msg ===\n",
      "Hello\n",
      "=== write function ===\n",
      "HelloWorld\n",
      "=== pring msg ===\n",
      "HelloWorld\n"
     ]
    }
   ],
   "source": [
    "# Global \n",
    "\n",
    "msg = \"Hello\"\n",
    "\n",
    "def write():\n",
    "    global msg \n",
    "    msg += \"World\" \n",
    "    print(msg) \n",
    "\n",
    "def main():\n",
    "    print(\"== print msg ===\") \n",
    "    print(msg) \n",
    "\n",
    "    print(\"=== write function ===\") \n",
    "    write()\n",
    "\n",
    "    print(\"=== pring msg ===\") \n",
    "    print(msg) \n",
    "\n",
    "if __name__ == '__main__':\n",
    "    main()"
   ]
  },
  {
   "cell_type": "code",
   "execution_count": null,
   "metadata": {},
   "outputs": [
    {
     "name": "stdout",
     "output_type": "stream",
     "text": [
      "HelloPPTNZ\n"
     ]
    }
   ],
   "source": [
    "# Nonlocal \n",
    "# Nested Function \n",
    "\n",
    "def greeting(name):\n",
    "    greeting_msg = 'Hello '\n",
    "\n",
    "    def add_name():\n",
    "        return ('%s%s' % (greeting_msg, name))\n",
    "    \n",
    "    msg = add_name()\n",
    "    print(msg)\n",
    "\n",
    "if __name__ == '__main__':\n",
    "    greeting(\"PPTNZ\")\n"
   ]
  },
  {
   "cell_type": "code",
   "execution_count": 5,
   "metadata": {},
   "outputs": [
    {
     "ename": "UnboundLocalError",
     "evalue": "cannot access local variable 'greeting_msg' where it is not associated with a value",
     "output_type": "error",
     "traceback": [
      "\u001b[1;31m---------------------------------------------------------------------------\u001b[0m",
      "\u001b[1;31mUnboundLocalError\u001b[0m                         Traceback (most recent call last)",
      "Cell \u001b[1;32mIn[5], line 12\u001b[0m\n\u001b[0;32m      9\u001b[0m     \u001b[38;5;28mprint\u001b[39m(msg) \n\u001b[0;32m     11\u001b[0m \u001b[38;5;28;01mif\u001b[39;00m \u001b[38;5;18m__name__\u001b[39m \u001b[38;5;241m==\u001b[39m \u001b[38;5;124m'\u001b[39m\u001b[38;5;124m__main__\u001b[39m\u001b[38;5;124m'\u001b[39m:\n\u001b[1;32m---> 12\u001b[0m     \u001b[38;5;28mprint\u001b[39m(greeting(\u001b[38;5;124m\"\u001b[39m\u001b[38;5;124mPPTNZ\u001b[39m\u001b[38;5;124m\"\u001b[39m))\n",
      "Cell \u001b[1;32mIn[5], line 8\u001b[0m, in \u001b[0;36mgreeting\u001b[1;34m(name)\u001b[0m\n\u001b[0;32m      5\u001b[0m     greeting_msg \u001b[38;5;241m+\u001b[39m\u001b[38;5;241m=\u001b[39m \u001b[38;5;124m\"\u001b[39m\u001b[38;5;124m \u001b[39m\u001b[38;5;124m\"\u001b[39m\n\u001b[0;32m      6\u001b[0m     \u001b[38;5;28;01mreturn\u001b[39;00m (\u001b[38;5;124m'\u001b[39m\u001b[38;5;132;01m%s\u001b[39;00m\u001b[38;5;132;01m%s\u001b[39;00m\u001b[38;5;124m'\u001b[39m \u001b[38;5;241m%\u001b[39m (greeting_msg, name)) \n\u001b[1;32m----> 8\u001b[0m msg \u001b[38;5;241m=\u001b[39m add_name()\n\u001b[0;32m      9\u001b[0m \u001b[38;5;28mprint\u001b[39m(msg)\n",
      "Cell \u001b[1;32mIn[5], line 5\u001b[0m, in \u001b[0;36mgreeting.<locals>.add_name\u001b[1;34m()\u001b[0m\n\u001b[0;32m      4\u001b[0m \u001b[38;5;28;01mdef\u001b[39;00m \u001b[38;5;21madd_name\u001b[39m():\n\u001b[1;32m----> 5\u001b[0m     greeting_msg \u001b[38;5;241m+\u001b[39m\u001b[38;5;241m=\u001b[39m \u001b[38;5;124m\"\u001b[39m\u001b[38;5;124m \u001b[39m\u001b[38;5;124m\"\u001b[39m\n\u001b[0;32m      6\u001b[0m     \u001b[38;5;28;01mreturn\u001b[39;00m (\u001b[38;5;124m'\u001b[39m\u001b[38;5;132;01m%s\u001b[39;00m\u001b[38;5;132;01m%s\u001b[39;00m\u001b[38;5;124m'\u001b[39m \u001b[38;5;241m%\u001b[39m (greeting_msg, name))\n",
      "\u001b[1;31mUnboundLocalError\u001b[0m: cannot access local variable 'greeting_msg' where it is not associated with a value"
     ]
    }
   ],
   "source": [
    "def greeting(name):\n",
    "    greeting_msg = \"Hello\" \n",
    "\n",
    "    def add_name():\n",
    "        greeting_msg += \" \"\n",
    "        return ('%s%s' % (greeting_msg, name)) \n",
    "    \n",
    "    msg = add_name()\n",
    "    print(msg) \n",
    "\n",
    "if __name__ == '__main__':\n",
    "    print(greeting(\"PPTNZ\"))"
   ]
  },
  {
   "cell_type": "code",
   "execution_count": null,
   "metadata": {},
   "outputs": [],
   "source": [
    "def greeting(name):\n",
    "    greeting_msg = \"Hello\" \n",
    "\n",
    "    def add_name():\n",
    "        nonlocal greeting_msg += \" \"\n",
    "        return ('%s%s' % (greeting_msg, name)) \n",
    "    \n",
    "    msg = add_name()\n",
    "    print(msg) \n",
    "\n",
    "if __name__ == '__main__':\n",
    "    print(greeting(\"PPTNZ\"))"
   ]
  },
  {
   "cell_type": "code",
   "execution_count": null,
   "metadata": {},
   "outputs": [],
   "source": []
  },
  {
   "cell_type": "code",
   "execution_count": null,
   "metadata": {},
   "outputs": [],
   "source": []
  },
  {
   "cell_type": "code",
   "execution_count": null,
   "metadata": {},
   "outputs": [],
   "source": []
  },
  {
   "cell_type": "code",
   "execution_count": null,
   "metadata": {},
   "outputs": [],
   "source": []
  },
  {
   "cell_type": "code",
   "execution_count": null,
   "metadata": {},
   "outputs": [],
   "source": []
  },
  {
   "cell_type": "code",
   "execution_count": null,
   "metadata": {},
   "outputs": [],
   "source": []
  },
  {
   "cell_type": "code",
   "execution_count": null,
   "metadata": {},
   "outputs": [],
   "source": []
  },
  {
   "cell_type": "code",
   "execution_count": null,
   "metadata": {},
   "outputs": [],
   "source": []
  }
 ],
 "metadata": {
  "kernelspec": {
   "display_name": "base",
   "language": "python",
   "name": "python3"
  },
  "language_info": {
   "codemirror_mode": {
    "name": "ipython",
    "version": 3
   },
   "file_extension": ".py",
   "mimetype": "text/x-python",
   "name": "python",
   "nbconvert_exporter": "python",
   "pygments_lexer": "ipython3",
   "version": "3.11.3"
  }
 },
 "nbformat": 4,
 "nbformat_minor": 2
}
